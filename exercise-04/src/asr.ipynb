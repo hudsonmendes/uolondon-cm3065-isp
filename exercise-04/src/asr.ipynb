{
 "cells": [
  {
   "cell_type": "markdown",
   "metadata": {},
   "source": [
    "## Settings\n"
   ]
  },
  {
   "cell_type": "code",
   "execution_count": 15,
   "metadata": {},
   "outputs": [
    {
     "name": "stdout",
     "output_type": "stream",
     "text": [
      "The autoreload extension is already loaded. To reload it, use:\n",
      "  %reload_ext autoreload\n"
     ]
    }
   ],
   "source": [
    "%load_ext autoreload\n",
    "%autoreload 2"
   ]
  },
  {
   "cell_type": "code",
   "execution_count": 16,
   "metadata": {},
   "outputs": [],
   "source": [
    "from pathlib import Path\n",
    "\n",
    "model_folder = Path(\"/Users/hudsonmendes/Models/pretrained\")\n",
    "data_folder = Path(\"/Users/hudsonmendes/Workspaces/hudsonmendes-estudos/cm3065-isp/exercise-04/files\")\n",
    "transcriptions_filepath = data_folder / 'Ex4_audio_files_transcriptions.csv'\n"
   ]
  },
  {
   "cell_type": "markdown",
   "metadata": {},
   "source": [
    "## Dependencies\n"
   ]
  },
  {
   "cell_type": "code",
   "execution_count": 20,
   "metadata": {},
   "outputs": [],
   "source": [
    "import re\n",
    "import numpy as np\n",
    "import pandas as pd\n"
   ]
  },
  {
   "cell_type": "markdown",
   "metadata": {},
   "source": [
    "# Data\n"
   ]
  },
  {
   "cell_type": "code",
   "execution_count": 25,
   "metadata": {},
   "outputs": [],
   "source": [
    "import unicodedata\n",
    "\n",
    "def normalise_text(text): \n",
    "    text = ''.join(c for c in unicodedata.normalize('NFD', text) if unicodedata.category(c) != 'Mn')\n",
    "    text = re.sub('[^A-Za-z0-9\\ ]+', '', text)\n",
    "    text = re.sub('[\\s]+', ' ', text)\n",
    "    return text.lower().strip()"
   ]
  },
  {
   "cell_type": "code",
   "execution_count": 34,
   "metadata": {},
   "outputs": [
    {
     "data": {
      "text/html": [
       "<div>\n",
       "<style scoped>\n",
       "    .dataframe tbody tr th:only-of-type {\n",
       "        vertical-align: middle;\n",
       "    }\n",
       "\n",
       "    .dataframe tbody tr th {\n",
       "        vertical-align: top;\n",
       "    }\n",
       "\n",
       "    .dataframe thead th {\n",
       "        text-align: right;\n",
       "    }\n",
       "</style>\n",
       "<table border=\"1\" class=\"dataframe\">\n",
       "  <thead>\n",
       "    <tr style=\"text-align: right;\">\n",
       "      <th></th>\n",
       "      <th>locale</th>\n",
       "      <th>filename</th>\n",
       "      <th>y_true</th>\n",
       "    </tr>\n",
       "  </thead>\n",
       "  <tbody>\n",
       "    <tr>\n",
       "      <th>0</th>\n",
       "      <td>en</td>\n",
       "      <td>Ex4_audio_files/EN/checkin.wav</td>\n",
       "      <td>where is the checkin desk</td>\n",
       "    </tr>\n",
       "    <tr>\n",
       "      <th>1</th>\n",
       "      <td>en</td>\n",
       "      <td>Ex4_audio_files/EN/parents.wav</td>\n",
       "      <td>i have lost my parents</td>\n",
       "    </tr>\n",
       "    <tr>\n",
       "      <th>2</th>\n",
       "      <td>en</td>\n",
       "      <td>Ex4_audio_files/EN/suitcase.wav</td>\n",
       "      <td>please i have lost my suitcase</td>\n",
       "    </tr>\n",
       "    <tr>\n",
       "      <th>3</th>\n",
       "      <td>en</td>\n",
       "      <td>Ex4_audio_files/EN/what_time.wav</td>\n",
       "      <td>what time is my plane</td>\n",
       "    </tr>\n",
       "    <tr>\n",
       "      <th>4</th>\n",
       "      <td>en</td>\n",
       "      <td>Ex4_audio_files/EN/where.wav</td>\n",
       "      <td>where are the restaurants and shops</td>\n",
       "    </tr>\n",
       "    <tr>\n",
       "      <th>5</th>\n",
       "      <td>it</td>\n",
       "      <td>Ex4_audio_files/IT/checkin_it.wav</td>\n",
       "      <td>dove e il bancone</td>\n",
       "    </tr>\n",
       "    <tr>\n",
       "      <th>6</th>\n",
       "      <td>it</td>\n",
       "      <td>Ex4_audio_files/IT/parents_it.wav</td>\n",
       "      <td>ho perso i miei genitori</td>\n",
       "    </tr>\n",
       "    <tr>\n",
       "      <th>7</th>\n",
       "      <td>it</td>\n",
       "      <td>Ex4_audio_files/IT/suitcase_it.wav</td>\n",
       "      <td>per favore ho perso la mia valigia</td>\n",
       "    </tr>\n",
       "    <tr>\n",
       "      <th>8</th>\n",
       "      <td>it</td>\n",
       "      <td>Ex4_audio_files/IT/what_time_it.wav</td>\n",
       "      <td>a che ora e il mio aereo</td>\n",
       "    </tr>\n",
       "    <tr>\n",
       "      <th>9</th>\n",
       "      <td>it</td>\n",
       "      <td>Ex4_audio_files/IT/where_it.wav</td>\n",
       "      <td>dove sono i ristoranti e i negozi</td>\n",
       "    </tr>\n",
       "    <tr>\n",
       "      <th>10</th>\n",
       "      <td>es</td>\n",
       "      <td>Ex4_audio_files/ES/checkin_es.wav</td>\n",
       "      <td>donde estan los mostradores</td>\n",
       "    </tr>\n",
       "    <tr>\n",
       "      <th>11</th>\n",
       "      <td>es</td>\n",
       "      <td>Ex4_audio_files/ES/parents_es.wav</td>\n",
       "      <td>he perdido a mis padres</td>\n",
       "    </tr>\n",
       "    <tr>\n",
       "      <th>12</th>\n",
       "      <td>es</td>\n",
       "      <td>Ex4_audio_files/ES/suitcase_es.wav</td>\n",
       "      <td>por favor he perdido mi maleta</td>\n",
       "    </tr>\n",
       "    <tr>\n",
       "      <th>13</th>\n",
       "      <td>es</td>\n",
       "      <td>Ex4_audio_files/ES/what_time_es.wav</td>\n",
       "      <td>a que hora es mi avion</td>\n",
       "    </tr>\n",
       "    <tr>\n",
       "      <th>14</th>\n",
       "      <td>es</td>\n",
       "      <td>Ex4_audio_files/ES/where_es.wav</td>\n",
       "      <td>donde estan los restaurantes y las tiendas</td>\n",
       "    </tr>\n",
       "  </tbody>\n",
       "</table>\n",
       "</div>"
      ],
      "text/plain": [
       "   locale                             filename  \\\n",
       "0      en       Ex4_audio_files/EN/checkin.wav   \n",
       "1      en       Ex4_audio_files/EN/parents.wav   \n",
       "2      en      Ex4_audio_files/EN/suitcase.wav   \n",
       "3      en     Ex4_audio_files/EN/what_time.wav   \n",
       "4      en         Ex4_audio_files/EN/where.wav   \n",
       "5      it    Ex4_audio_files/IT/checkin_it.wav   \n",
       "6      it    Ex4_audio_files/IT/parents_it.wav   \n",
       "7      it   Ex4_audio_files/IT/suitcase_it.wav   \n",
       "8      it  Ex4_audio_files/IT/what_time_it.wav   \n",
       "9      it      Ex4_audio_files/IT/where_it.wav   \n",
       "10     es    Ex4_audio_files/ES/checkin_es.wav   \n",
       "11     es    Ex4_audio_files/ES/parents_es.wav   \n",
       "12     es   Ex4_audio_files/ES/suitcase_es.wav   \n",
       "13     es  Ex4_audio_files/ES/what_time_es.wav   \n",
       "14     es      Ex4_audio_files/ES/where_es.wav   \n",
       "\n",
       "                                        y_true  \n",
       "0                    where is the checkin desk  \n",
       "1                       i have lost my parents  \n",
       "2               please i have lost my suitcase  \n",
       "3                        what time is my plane  \n",
       "4          where are the restaurants and shops  \n",
       "5                            dove e il bancone  \n",
       "6                     ho perso i miei genitori  \n",
       "7           per favore ho perso la mia valigia  \n",
       "8                     a che ora e il mio aereo  \n",
       "9            dove sono i ristoranti e i negozi  \n",
       "10                 donde estan los mostradores  \n",
       "11                     he perdido a mis padres  \n",
       "12              por favor he perdido mi maleta  \n",
       "13                      a que hora es mi avion  \n",
       "14  donde estan los restaurantes y las tiendas  "
      ]
     },
     "execution_count": 34,
     "metadata": {},
     "output_type": "execute_result"
    }
   ],
   "source": [
    "test_df = pd.read_csv(transcriptions_filepath, header=0)\n",
    "test_df[\"y_true\"] = test_df.y_true.map(normalise_text)\n",
    "test_df"
   ]
  },
  {
   "cell_type": "markdown",
   "metadata": {},
   "source": [
    "# ASR\n"
   ]
  },
  {
   "cell_type": "code",
   "execution_count": 35,
   "metadata": {},
   "outputs": [],
   "source": [
    "from abc import ABC, abstractclassmethod\n",
    "\n",
    "class AbstractASR:\n",
    "    \n",
    "    @abstractclassmethod\n",
    "    def transcribe(self, filepath: Path) -> str:\n",
    "        raise NotImplementedError(\"You must implement the transcribe() method\")"
   ]
  },
  {
   "cell_type": "markdown",
   "metadata": {},
   "source": [
    "## Mozilla DeepSpeech\n"
   ]
  },
  {
   "cell_type": "code",
   "execution_count": 36,
   "metadata": {},
   "outputs": [
    {
     "name": "stderr",
     "output_type": "stream",
     "text": [
      "TensorFlow: v2.3.0-6-g23ad988fcd\n",
      "DeepSpeech: v0.9.3-0-gf2e9c858\n",
      "TensorFlow: v2.3.0-6-g23ad988fcd\n",
      "DeepSpeech: v0.9.3-0-gf2e9c858\n",
      "TensorFlow: v2.3.0-6-g23ad988fcd\n",
      "DeepSpeech: v0.9.3-0-gf2e9c858\n"
     ]
    },
    {
     "data": {
      "text/plain": [
       "(('en', 'where is the checking desk'),\n",
       " ('it', 'dove er il bancone'),\n",
       " ('es', 'adande estan los mostradores'))"
      ]
     },
     "execution_count": 36,
     "metadata": {},
     "output_type": "execute_result"
    }
   ],
   "source": [
    "import deepspeech as ds\n",
    "import librosa as lr\n",
    "\n",
    "\n",
    "class DeepSpeechASR(AbstractASR):\n",
    "    model: ds.Model\n",
    "\n",
    "    def __init__(self, model_name: str, folder: Path, scorer_name: str = None):\n",
    "        super(DeepSpeechASR, self).__init__()\n",
    "        model_path = folder / f\"{model_name}.pbmm\"\n",
    "        self.model = ds.Model(str(model_path))\n",
    "        if not scorer_name:\n",
    "            scorer_name = model_name\n",
    "        scorer_path = folder / f\"{scorer_name}.scorer\"\n",
    "        if scorer_path.is_file():\n",
    "            self.model.enableExternalScorer(str(scorer_path))\n",
    "\n",
    "    def transcribe(self, filepath: Path):\n",
    "        audiofile = lr.load(filepath, sr=self.model.sampleRate())[0]\n",
    "        audiofile = (audiofile * 32767).astype(np.int16)\n",
    "        return self.model.stt(audiofile)\n",
    "\n",
    "\n",
    "asr_deepspeech_en = DeepSpeechASR(model_name=\"deepspeech-0.9.3-models\", folder=model_folder / 'deepspeech')\n",
    "asr_deepspeech_it = DeepSpeechASR(model_name=\"output_graph_it\", folder=model_folder / 'deepspeech')\n",
    "asr_deepspeech_es = DeepSpeechASR(model_name=\"output_graph_es\", scorer_name=\"kenlm_es\", folder=model_folder / 'deepspeech')\n",
    "\n",
    "(\n",
    "    (\"en\", asr_deepspeech_en.transcribe(filepath=data_folder / test_df[test_df.locale == 'en'].filename.values[0])),\n",
    "    (\"it\", asr_deepspeech_it.transcribe(filepath=data_folder / test_df[test_df.locale == 'it'].filename.values[0])),\n",
    "    (\"es\", asr_deepspeech_es.transcribe(filepath=data_folder / test_df[test_df.locale == 'es'].filename.values[0])),\n",
    ")\n"
   ]
  },
  {
   "cell_type": "markdown",
   "metadata": {},
   "source": [
    "## SpeechBrain\n"
   ]
  },
  {
   "cell_type": "code",
   "execution_count": 37,
   "metadata": {},
   "outputs": [
    {
     "name": "stderr",
     "output_type": "stream",
     "text": [
      "/Users/hudsonmendes/Workspaces/hudsonmendes-estudos/cm3065-isp/exercise-04/venv/lib/python3.8/site-packages/huggingface_hub/utils/_deprecation.py:39: FutureWarning: Pass library_name=False as keyword args. From version 0.8 passing these as positional arguments will result in an error\n",
      "  warnings.warn(\n",
      "Some weights of the model checkpoint at facebook/wav2vec2-large-lv60 were not used when initializing Wav2Vec2Model: ['project_hid.bias', 'quantizer.weight_proj.bias', 'quantizer.weight_proj.weight', 'project_q.weight', 'project_q.bias', 'project_hid.weight', 'quantizer.codevectors']\n",
      "- This IS expected if you are initializing Wav2Vec2Model from the checkpoint of a model trained on another task or with another architecture (e.g. initializing a BertForSequenceClassification model from a BertForPreTraining model).\n",
      "- This IS NOT expected if you are initializing Wav2Vec2Model from the checkpoint of a model that you expect to be exactly identical (initializing a BertForSequenceClassification model from a BertForSequenceClassification model).\n",
      "speechbrain.lobes.models.huggingface_wav2vec - wav2vec 2.0 is frozen.\n"
     ]
    },
    {
     "data": {
      "text/plain": [
       "'WHERE IS THE CHECK IN DESK'"
      ]
     },
     "execution_count": 37,
     "metadata": {},
     "output_type": "execute_result"
    }
   ],
   "source": [
    "from speechbrain.pretrained import EncoderDecoderASR\n",
    "\n",
    "class SpeechBrainASR:\n",
    "    def __init__(self, model_name: str, folder: Path):\n",
    "        super(SpeechBrainASR, self).__init__()\n",
    "        self.model = EncoderDecoderASR.from_hparams(\n",
    "            source=f\"speechbrain/{model_name}\",\n",
    "            savedir=folder)\n",
    "\n",
    "    def transcribe(self, filepath: Path) -> str:\n",
    "        return self.model.transcribe_file(str(filepath))\n",
    "\n",
    "asr_speechbrain_en = SpeechBrainASR(model_name=\"asr-wav2vec2-commonvoice-en\", folder=model_folder / 'speechbrain')\n",
    "asr_speechbrain_en.transcribe(filepath=data_folder / test_df[test_df.locale == 'en'].filename.values[0])\n"
   ]
  },
  {
   "cell_type": "markdown",
   "metadata": {},
   "source": [
    "## Facebook Wav2Vec\n"
   ]
  },
  {
   "cell_type": "code",
   "execution_count": 39,
   "metadata": {},
   "outputs": [
    {
     "name": "stderr",
     "output_type": "stream",
     "text": [
      "Some weights of Wav2Vec2ForCTC were not initialized from the model checkpoint at facebook/wav2vec2-base-960h and are newly initialized: ['wav2vec2.masked_spec_embed']\n",
      "You should probably TRAIN this model on a down-stream task to be able to use it for predictions and inference.\n"
     ]
    },
    {
     "data": {
      "text/plain": [
       "'WHERE IS THE CHECKEN DESK'"
      ]
     },
     "execution_count": 39,
     "metadata": {},
     "output_type": "execute_result"
    }
   ],
   "source": [
    "from transformers import Wav2Vec2Processor, Wav2Vec2ForCTC\n",
    "import torch\n",
    "import soundfile as sf\n",
    "\n",
    "class FacebookWave2VecASR:\n",
    "\n",
    "    def __init__(self):\n",
    "        super(FacebookWave2VecASR, self).__init__()\n",
    "        self.processor = Wav2Vec2Processor.from_pretrained(\"facebook/wav2vec2-base-960h\")\n",
    "        self.model = Wav2Vec2ForCTC.from_pretrained(\"facebook/wav2vec2-base-960h\")\n",
    "\n",
    "    def transcribe(self, filepath: Path) -> str:\n",
    "        with filepath.open('rb') as fh:\n",
    "            data, sr = sf.read(fh)\n",
    "            inputs = self.processor([data], sampling_rate=sr, return_tensors=\"pt\")\n",
    "            with torch.no_grad():\n",
    "                y = self.model(**inputs)\n",
    "                logits = y.logits\n",
    "                ids = torch.argmax(logits, dim=-1)\n",
    "                return self.processor.batch_decode(ids)[0]\n",
    "\n",
    "asr_fbw2v_en = FacebookWave2VecASR()\n",
    "asr_fbw2v_en.transcribe(filepath=data_folder / test_df[test_df.locale == 'en'].filename.values[0])"
   ]
  },
  {
   "cell_type": "markdown",
   "metadata": {},
   "source": [
    "# Transcribe\n"
   ]
  },
  {
   "cell_type": "code",
   "execution_count": 44,
   "metadata": {},
   "outputs": [],
   "source": [
    "def analyse(df: pd.DataFrame, folder: Path, asr_engine: AbstractASR) -> pd.DataFrame:\n",
    "    df = df.copy()\n",
    "    for ix, filename in df.filename.iteritems():\n",
    "        y_pred = asr_engine.transcribe(filepath=folder / filename)\n",
    "        df.at[ix, 'y_pred'] = y_pred\n",
    "    return df"
   ]
  },
  {
   "cell_type": "code",
   "execution_count": 48,
   "metadata": {},
   "outputs": [],
   "source": [
    "results_deepspeech_df_en = analyse(test_df[test_df.locale == 'en'], data_folder, asr_deepspeech_en)\n",
    "results_deepspeech_df_en"
   ]
  },
  {
   "cell_type": "code",
   "execution_count": null,
   "metadata": {},
   "outputs": [
    {
     "data": {
      "text/html": [
       "<div>\n",
       "<style scoped>\n",
       "    .dataframe tbody tr th:only-of-type {\n",
       "        vertical-align: middle;\n",
       "    }\n",
       "\n",
       "    .dataframe tbody tr th {\n",
       "        vertical-align: top;\n",
       "    }\n",
       "\n",
       "    .dataframe thead th {\n",
       "        text-align: right;\n",
       "    }\n",
       "</style>\n",
       "<table border=\"1\" class=\"dataframe\">\n",
       "  <thead>\n",
       "    <tr style=\"text-align: right;\">\n",
       "      <th></th>\n",
       "      <th>locale</th>\n",
       "      <th>filename</th>\n",
       "      <th>y_true</th>\n",
       "      <th>y_pred</th>\n",
       "    </tr>\n",
       "  </thead>\n",
       "  <tbody>\n",
       "    <tr>\n",
       "      <th>5</th>\n",
       "      <td>it</td>\n",
       "      <td>Ex4_audio_files/IT/checkin_it.wav</td>\n",
       "      <td>dove e il bancone</td>\n",
       "      <td>dove er il bancone</td>\n",
       "    </tr>\n",
       "    <tr>\n",
       "      <th>6</th>\n",
       "      <td>it</td>\n",
       "      <td>Ex4_audio_files/IT/parents_it.wav</td>\n",
       "      <td>ho perso i miei genitori</td>\n",
       "      <td>operso i miei genitori</td>\n",
       "    </tr>\n",
       "    <tr>\n",
       "      <th>7</th>\n",
       "      <td>it</td>\n",
       "      <td>Ex4_audio_files/IT/suitcase_it.wav</td>\n",
       "      <td>per favore ho perso la mia valigia</td>\n",
       "      <td>per favore o perso la mia valigia</td>\n",
       "    </tr>\n",
       "    <tr>\n",
       "      <th>8</th>\n",
       "      <td>it</td>\n",
       "      <td>Ex4_audio_files/IT/what_time_it.wav</td>\n",
       "      <td>a che ora e il mio aereo</td>\n",
       "      <td>ar nio ereo</td>\n",
       "    </tr>\n",
       "    <tr>\n",
       "      <th>9</th>\n",
       "      <td>it</td>\n",
       "      <td>Ex4_audio_files/IT/where_it.wav</td>\n",
       "      <td>dove sono i ristoranti e i negozi</td>\n",
       "      <td>dove sone ristorantie nedozi</td>\n",
       "    </tr>\n",
       "  </tbody>\n",
       "</table>\n",
       "</div>"
      ],
      "text/plain": [
       "  locale                             filename  \\\n",
       "5     it    Ex4_audio_files/IT/checkin_it.wav   \n",
       "6     it    Ex4_audio_files/IT/parents_it.wav   \n",
       "7     it   Ex4_audio_files/IT/suitcase_it.wav   \n",
       "8     it  Ex4_audio_files/IT/what_time_it.wav   \n",
       "9     it      Ex4_audio_files/IT/where_it.wav   \n",
       "\n",
       "                               y_true                             y_pred  \n",
       "5                   dove e il bancone                 dove er il bancone  \n",
       "6            ho perso i miei genitori             operso i miei genitori  \n",
       "7  per favore ho perso la mia valigia  per favore o perso la mia valigia  \n",
       "8            a che ora e il mio aereo                        ar nio ereo  \n",
       "9   dove sono i ristoranti e i negozi       dove sone ristorantie nedozi  "
      ]
     },
     "execution_count": 46,
     "metadata": {},
     "output_type": "execute_result"
    }
   ],
   "source": [
    "results_deepspeech_it = analyse(test_df[test_df.locale == 'it'], data_folder, asr_deepspeech_it)\n",
    "results_deepspeech_it"
   ]
  },
  {
   "cell_type": "code",
   "execution_count": null,
   "metadata": {},
   "outputs": [
    {
     "data": {
      "text/html": [
       "<div>\n",
       "<style scoped>\n",
       "    .dataframe tbody tr th:only-of-type {\n",
       "        vertical-align: middle;\n",
       "    }\n",
       "\n",
       "    .dataframe tbody tr th {\n",
       "        vertical-align: top;\n",
       "    }\n",
       "\n",
       "    .dataframe thead th {\n",
       "        text-align: right;\n",
       "    }\n",
       "</style>\n",
       "<table border=\"1\" class=\"dataframe\">\n",
       "  <thead>\n",
       "    <tr style=\"text-align: right;\">\n",
       "      <th></th>\n",
       "      <th>locale</th>\n",
       "      <th>filename</th>\n",
       "      <th>y_true</th>\n",
       "      <th>y_pred</th>\n",
       "    </tr>\n",
       "  </thead>\n",
       "  <tbody>\n",
       "    <tr>\n",
       "      <th>10</th>\n",
       "      <td>es</td>\n",
       "      <td>Ex4_audio_files/ES/checkin_es.wav</td>\n",
       "      <td>donde estan los mostradores</td>\n",
       "      <td>adande estan los mostradores</td>\n",
       "    </tr>\n",
       "    <tr>\n",
       "      <th>11</th>\n",
       "      <td>es</td>\n",
       "      <td>Ex4_audio_files/ES/parents_es.wav</td>\n",
       "      <td>he perdido a mis padres</td>\n",
       "      <td>he perdido a mis padres</td>\n",
       "    </tr>\n",
       "    <tr>\n",
       "      <th>12</th>\n",
       "      <td>es</td>\n",
       "      <td>Ex4_audio_files/ES/suitcase_es.wav</td>\n",
       "      <td>por favor he perdido mi maleta</td>\n",
       "      <td>por favor he perdido mi maleta</td>\n",
       "    </tr>\n",
       "    <tr>\n",
       "      <th>13</th>\n",
       "      <td>es</td>\n",
       "      <td>Ex4_audio_files/ES/what_time_es.wav</td>\n",
       "      <td>a que hora es mi avion</td>\n",
       "      <td>ahora es miedo</td>\n",
       "    </tr>\n",
       "    <tr>\n",
       "      <th>14</th>\n",
       "      <td>es</td>\n",
       "      <td>Ex4_audio_files/ES/where_es.wav</td>\n",
       "      <td>donde estan los restaurantes y las tiendas</td>\n",
       "      <td>adande estan los restaurantes en las tierras</td>\n",
       "    </tr>\n",
       "  </tbody>\n",
       "</table>\n",
       "</div>"
      ],
      "text/plain": [
       "   locale                             filename  \\\n",
       "10     es    Ex4_audio_files/ES/checkin_es.wav   \n",
       "11     es    Ex4_audio_files/ES/parents_es.wav   \n",
       "12     es   Ex4_audio_files/ES/suitcase_es.wav   \n",
       "13     es  Ex4_audio_files/ES/what_time_es.wav   \n",
       "14     es      Ex4_audio_files/ES/where_es.wav   \n",
       "\n",
       "                                        y_true  \\\n",
       "10                 donde estan los mostradores   \n",
       "11                     he perdido a mis padres   \n",
       "12              por favor he perdido mi maleta   \n",
       "13                      a que hora es mi avion   \n",
       "14  donde estan los restaurantes y las tiendas   \n",
       "\n",
       "                                          y_pred  \n",
       "10                  adande estan los mostradores  \n",
       "11                       he perdido a mis padres  \n",
       "12                por favor he perdido mi maleta  \n",
       "13                                ahora es miedo  \n",
       "14  adande estan los restaurantes en las tierras  "
      ]
     },
     "execution_count": 47,
     "metadata": {},
     "output_type": "execute_result"
    }
   ],
   "source": [
    "results_deepspeech_es = analyse(test_df[test_df.locale == 'es'], data_folder, asr_deepspeech_es)\n",
    "results_deepspeech_es"
   ]
  },
  {
   "cell_type": "code",
   "execution_count": null,
   "metadata": {},
   "outputs": [],
   "source": []
  }
 ],
 "metadata": {
  "kernelspec": {
   "display_name": "Python 3.8.7 ('venv': venv)",
   "language": "python",
   "name": "python3"
  },
  "language_info": {
   "codemirror_mode": {
    "name": "ipython",
    "version": 3
   },
   "file_extension": ".py",
   "mimetype": "text/x-python",
   "name": "python",
   "nbconvert_exporter": "python",
   "pygments_lexer": "ipython3",
   "version": "3.8.7"
  },
  "orig_nbformat": 4,
  "vscode": {
   "interpreter": {
    "hash": "2eae4de737fc7bb56fc51d9b7910e57c2c74fec1d168a31b06f7eed62cd7bffe"
   }
  }
 },
 "nbformat": 4,
 "nbformat_minor": 2
}
