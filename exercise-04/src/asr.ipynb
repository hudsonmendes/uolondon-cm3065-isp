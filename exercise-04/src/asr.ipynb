{
 "cells": [
  {
   "cell_type": "markdown",
   "metadata": {},
   "source": [
    "## Settings\n"
   ]
  },
  {
   "cell_type": "code",
   "execution_count": null,
   "metadata": {},
   "outputs": [],
   "source": [
    "from pathlib import Path\n",
    "\n",
    "model_folder = Path(\"/Users/hudsonmendes/Models/pretrained\")\n",
    "audio_folder = Path(\"/Users/hudsonmendes/Workspaces/hudsonmendes-estudos/cm3065-isp/exercise-04/files/Ex4_audio_files\")\n"
   ]
  },
  {
   "cell_type": "markdown",
   "metadata": {},
   "source": [
    "## Dependencies\n"
   ]
  },
  {
   "cell_type": "code",
   "execution_count": null,
   "metadata": {},
   "outputs": [],
   "source": [
    "from typing import Dict, List\n",
    "\n",
    "import os\n",
    "import numpy as np\n"
   ]
  },
  {
   "cell_type": "markdown",
   "metadata": {},
   "source": [
    "# Data"
   ]
  },
  {
   "cell_type": "code",
   "execution_count": null,
   "metadata": {},
   "outputs": [],
   "source": [
    "def collect_files_per_locale(folder: Path) -> Dict[str, List[Path]]:\n",
    "    files_per_locale = {}\n",
    "    for root, _, filenames in os.walk(folder):\n",
    "        for filename in filenames:\n",
    "            if filename.endswith(\".wav\"):\n",
    "                filepath = os.path.join(root, filename)\n",
    "                locale = filepath.split(\"/\")[-2].lower().strip()\n",
    "                files_per_locale.setdefault(locale, []).append(Path(filepath))\n",
    "    return files_per_locale\n"
   ]
  },
  {
   "cell_type": "code",
   "execution_count": null,
   "metadata": {},
   "outputs": [],
   "source": [
    "files_per_locale = collect_files_per_locale(folder=audio_folder)\n",
    "files_per_locale\n"
   ]
  },
  {
   "cell_type": "markdown",
   "metadata": {},
   "source": [
    "# ASR\n"
   ]
  },
  {
   "cell_type": "markdown",
   "metadata": {},
   "source": [
    "## Mozilla DeepSpeech\n"
   ]
  },
  {
   "cell_type": "code",
   "execution_count": null,
   "metadata": {},
   "outputs": [],
   "source": [
    "import deepspeech as ds\n",
    "import librosa as lr\n",
    "\n",
    "\n",
    "class DeepSpeechASR:\n",
    "    model: ds.Model\n",
    "\n",
    "    def __init__(self, model_name: str, folder: Path, scorer_name: str = None):\n",
    "        model_path = folder / f\"{model_name}.pbmm\"\n",
    "        self.model = ds.Model(str(model_path))\n",
    "        if not scorer_name:\n",
    "            scorer_name = model_name\n",
    "        scorer_path = folder / f\"{scorer_name}.scorer\"\n",
    "        if scorer_path.is_file():\n",
    "            self.model.enableExternalScorer(str(scorer_path))\n",
    "\n",
    "    def transcribe(self, filepath: Path):\n",
    "        audiofile = lr.load(filepath, sr=self.model.sampleRate())[0]\n",
    "        audiofile = (audiofile * 32767).astype(np.int16)\n",
    "        return self.model.stt(audiofile)\n",
    "\n",
    "\n",
    "asr_deepspeech_en = DeepSpeechASR(model_name=\"deepspeech-0.9.3-models\", folder=model_folder / 'deepspeech')\n",
    "asr_deepspeech_it = DeepSpeechASR(model_name=\"output_graph_it\", folder=model_folder / 'deepspeech')\n",
    "asr_deepspeech_es = DeepSpeechASR(model_name=\"output_graph_es\", scorer_name=\"kenlm_es\", folder=model_folder / 'deepspeech')\n",
    "\n",
    "(\n",
    "    (\"en\", asr_deepspeech_en.transcribe(filepath=files_per_locale[\"en\"][0])),\n",
    "    (\"it\", asr_deepspeech_it.transcribe(filepath=files_per_locale[\"it\"][0])),\n",
    "    (\"es\", asr_deepspeech_es.transcribe(filepath=files_per_locale[\"es\"][0]))\n",
    ")\n"
   ]
  },
  {
   "cell_type": "markdown",
   "metadata": {},
   "source": [
    "## SpeechBrain"
   ]
  },
  {
   "cell_type": "code",
   "execution_count": null,
   "metadata": {},
   "outputs": [],
   "source": [
    "from speechbrain.pretrained import EncoderDecoderASR\n",
    "\n",
    "class SpeechBrainASR:\n",
    "    def __init__(self, model_name: str, folder: Path):\n",
    "        self.model = EncoderDecoderASR.from_hparams(\n",
    "            source=f\"speechbrain/{model_name}\",\n",
    "            savedir=folder)\n",
    "\n",
    "    def transcribe(self, filepath: Path) -> str:\n",
    "        self.model.transcribe_file(str(filepath))\n",
    "\n",
    "asr_speechbrain_en = SpeechBrainASR(model_name=\"asr-wav2vec2-commonvoice-en\", folder=model_folder / 'speechbrain')\n",
    "asr_speechbrain_en.transcribe(filepath=files_per_locale[\"en\"][0])\n"
   ]
  },
  {
   "cell_type": "markdown",
   "metadata": {},
   "source": [
    "## Facebook Wav2Vec"
   ]
  },
  {
   "cell_type": "code",
   "execution_count": null,
   "metadata": {},
   "outputs": [],
   "source": [
    "from transformers import Wav2Vec2Processor, Wav2Vec2ForCTC\n",
    "import torch\n",
    "import soundfile as sf\n",
    "\n",
    "class FacebookWave2VecASR:\n",
    "\n",
    "    def __init__(self):\n",
    "        self.processor = Wav2Vec2Processor.from_pretrained(\"facebook/wav2vec2-base-960h\")\n",
    "        self.model = Wav2Vec2ForCTC.from_pretrained(\"facebook/wav2vec2-base-960h\")\n",
    "\n",
    "    def transcribe(self, filepath: Path) -> str:\n",
    "        with filepath.open('rb') as fh:\n",
    "            data, sr = sf.read(fh)\n",
    "            inputs = self.processor([data], sampling_rate=sr, return_tensors=\"pt\")\n",
    "            with torch.no_grad():\n",
    "                y = self.model(**inputs)\n",
    "                logits = y.logits\n",
    "                ids = torch.argmax(logits, dim=-1)\n",
    "                return self.processor.batch_decode(ids)\n",
    "\n",
    "asr_fbw2v_en = FacebookWave2VecASR()\n",
    "asr_fbw2v_en.transcribe(filepath=files_per_locale[\"en\"][0])"
   ]
  },
  {
   "cell_type": "markdown",
   "metadata": {},
   "source": [
    "# Analysis\n"
   ]
  }
 ],
 "metadata": {
  "kernelspec": {
   "display_name": "Python 3.8.7 ('venv': venv)",
   "language": "python",
   "name": "python3"
  },
  "language_info": {
   "codemirror_mode": {
    "name": "ipython",
    "version": 3
   },
   "file_extension": ".py",
   "mimetype": "text/x-python",
   "name": "python",
   "nbconvert_exporter": "python",
   "pygments_lexer": "ipython3",
   "version": "3.8.7"
  },
  "orig_nbformat": 4,
  "vscode": {
   "interpreter": {
    "hash": "2eae4de737fc7bb56fc51d9b7910e57c2c74fec1d168a31b06f7eed62cd7bffe"
   }
  }
 },
 "nbformat": 4,
 "nbformat_minor": 2
}
