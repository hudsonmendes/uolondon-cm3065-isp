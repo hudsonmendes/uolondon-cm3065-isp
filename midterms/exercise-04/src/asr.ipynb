{
 "cells": [
  {
   "cell_type": "markdown",
   "metadata": {},
   "source": [
    "## Settings\n"
   ]
  },
  {
   "cell_type": "code",
   "execution_count": 1,
   "metadata": {},
   "outputs": [],
   "source": [
    "%load_ext autoreload\n",
    "%autoreload 2"
   ]
  },
  {
   "cell_type": "code",
   "execution_count": 2,
   "metadata": {},
   "outputs": [],
   "source": [
    "from pathlib import Path\n",
    "\n",
    "model_folder = Path(\"/Users/hudsonmendes/Models/pretrained\")\n",
    "data_folder = Path(\"/Users/hudsonmendes/Workspaces/hudsonmendes-estudos/cm3065-isp/exercise-04/files\")\n",
    "transcriptions_filepath = data_folder / \"Ex4_audio_files_transcriptions.csv\"\n"
   ]
  },
  {
   "cell_type": "markdown",
   "metadata": {},
   "source": [
    "## Dependencies\n"
   ]
  },
  {
   "cell_type": "code",
   "execution_count": 3,
   "metadata": {},
   "outputs": [],
   "source": [
    "from typing import Dict, List, Tuple\n",
    "\n",
    "import re\n",
    "import numpy as np\n",
    "import pandas as pd\n",
    "from tqdm import tqdm\n"
   ]
  },
  {
   "cell_type": "markdown",
   "metadata": {},
   "source": [
    "# Data\n"
   ]
  },
  {
   "cell_type": "code",
   "execution_count": 4,
   "metadata": {},
   "outputs": [],
   "source": [
    "import unicodedata\n",
    "\n",
    "\n",
    "def normalise_text(text):\n",
    "    text = \"\".join(c for c in unicodedata.normalize(\"NFD\", text) if unicodedata.category(c) != \"Mn\")\n",
    "    text = re.sub(\"[^A-Za-z0-9\\ ]+\", \"\", text)\n",
    "    text = re.sub(\"[\\s]+\", \" \", text)\n",
    "    return text.lower().strip()\n"
   ]
  },
  {
   "cell_type": "code",
   "execution_count": 5,
   "metadata": {},
   "outputs": [
    {
     "data": {
      "text/html": [
       "<div>\n",
       "<style scoped>\n",
       "    .dataframe tbody tr th:only-of-type {\n",
       "        vertical-align: middle;\n",
       "    }\n",
       "\n",
       "    .dataframe tbody tr th {\n",
       "        vertical-align: top;\n",
       "    }\n",
       "\n",
       "    .dataframe thead th {\n",
       "        text-align: right;\n",
       "    }\n",
       "</style>\n",
       "<table border=\"1\" class=\"dataframe\">\n",
       "  <thead>\n",
       "    <tr style=\"text-align: right;\">\n",
       "      <th></th>\n",
       "      <th>locale</th>\n",
       "      <th>filename</th>\n",
       "      <th>y_true</th>\n",
       "    </tr>\n",
       "  </thead>\n",
       "  <tbody>\n",
       "    <tr>\n",
       "      <th>0</th>\n",
       "      <td>en</td>\n",
       "      <td>Ex4_audio_files/EN/checkin_norm.wav</td>\n",
       "      <td>where is the checkin desk</td>\n",
       "    </tr>\n",
       "    <tr>\n",
       "      <th>1</th>\n",
       "      <td>en</td>\n",
       "      <td>Ex4_audio_files/EN/parents_norm.wav</td>\n",
       "      <td>i have lost my parents</td>\n",
       "    </tr>\n",
       "    <tr>\n",
       "      <th>2</th>\n",
       "      <td>en</td>\n",
       "      <td>Ex4_audio_files/EN/suitcase_norm.wav</td>\n",
       "      <td>please i have lost my suitcase</td>\n",
       "    </tr>\n",
       "    <tr>\n",
       "      <th>3</th>\n",
       "      <td>en</td>\n",
       "      <td>Ex4_audio_files/EN/what_time_norm.wav</td>\n",
       "      <td>what time is my plane</td>\n",
       "    </tr>\n",
       "    <tr>\n",
       "      <th>4</th>\n",
       "      <td>en</td>\n",
       "      <td>Ex4_audio_files/EN/where_norm.wav</td>\n",
       "      <td>where are the restaurants and shops</td>\n",
       "    </tr>\n",
       "    <tr>\n",
       "      <th>5</th>\n",
       "      <td>en</td>\n",
       "      <td>Ex4_audio_files/EN/your_sentence1.wav</td>\n",
       "      <td>i am in the library</td>\n",
       "    </tr>\n",
       "    <tr>\n",
       "      <th>6</th>\n",
       "      <td>en</td>\n",
       "      <td>Ex4_audio_files/EN/your_sentence2.wav</td>\n",
       "      <td>he is studying for the exam</td>\n",
       "    </tr>\n",
       "    <tr>\n",
       "      <th>7</th>\n",
       "      <td>it</td>\n",
       "      <td>Ex4_audio_files/IT/checkin_it_norm.wav</td>\n",
       "      <td>dove e il bancone</td>\n",
       "    </tr>\n",
       "    <tr>\n",
       "      <th>8</th>\n",
       "      <td>it</td>\n",
       "      <td>Ex4_audio_files/IT/parents_it_norm.wav</td>\n",
       "      <td>ho perso i miei genitori</td>\n",
       "    </tr>\n",
       "    <tr>\n",
       "      <th>9</th>\n",
       "      <td>it</td>\n",
       "      <td>Ex4_audio_files/IT/suitcase_it_norm.wav</td>\n",
       "      <td>per favore ho perso la mia valigia</td>\n",
       "    </tr>\n",
       "    <tr>\n",
       "      <th>10</th>\n",
       "      <td>it</td>\n",
       "      <td>Ex4_audio_files/IT/what_time_it_norm.wav</td>\n",
       "      <td>a che ora e il mio aereo</td>\n",
       "    </tr>\n",
       "    <tr>\n",
       "      <th>11</th>\n",
       "      <td>it</td>\n",
       "      <td>Ex4_audio_files/IT/where_it_norm.wav</td>\n",
       "      <td>dove sono i ristoranti e i negozi</td>\n",
       "    </tr>\n",
       "    <tr>\n",
       "      <th>12</th>\n",
       "      <td>es</td>\n",
       "      <td>Ex4_audio_files/ES/checkin_es_norm.wav</td>\n",
       "      <td>donde estan los mostradores</td>\n",
       "    </tr>\n",
       "    <tr>\n",
       "      <th>13</th>\n",
       "      <td>es</td>\n",
       "      <td>Ex4_audio_files/ES/parents_es_norm.wav</td>\n",
       "      <td>he perdido a mis padres</td>\n",
       "    </tr>\n",
       "    <tr>\n",
       "      <th>14</th>\n",
       "      <td>es</td>\n",
       "      <td>Ex4_audio_files/ES/suitcase_es_norm.wav</td>\n",
       "      <td>por favor he perdido mi maleta</td>\n",
       "    </tr>\n",
       "    <tr>\n",
       "      <th>15</th>\n",
       "      <td>es</td>\n",
       "      <td>Ex4_audio_files/ES/what_time_es_norm.wav</td>\n",
       "      <td>a que hora es mi avion</td>\n",
       "    </tr>\n",
       "    <tr>\n",
       "      <th>16</th>\n",
       "      <td>es</td>\n",
       "      <td>Ex4_audio_files/ES/where_es_norm.wav</td>\n",
       "      <td>donde estan los restaurantes y las tiendas</td>\n",
       "    </tr>\n",
       "  </tbody>\n",
       "</table>\n",
       "</div>"
      ],
      "text/plain": [
       "   locale                                  filename  \\\n",
       "0      en       Ex4_audio_files/EN/checkin_norm.wav   \n",
       "1      en       Ex4_audio_files/EN/parents_norm.wav   \n",
       "2      en      Ex4_audio_files/EN/suitcase_norm.wav   \n",
       "3      en     Ex4_audio_files/EN/what_time_norm.wav   \n",
       "4      en         Ex4_audio_files/EN/where_norm.wav   \n",
       "5      en     Ex4_audio_files/EN/your_sentence1.wav   \n",
       "6      en     Ex4_audio_files/EN/your_sentence2.wav   \n",
       "7      it    Ex4_audio_files/IT/checkin_it_norm.wav   \n",
       "8      it    Ex4_audio_files/IT/parents_it_norm.wav   \n",
       "9      it   Ex4_audio_files/IT/suitcase_it_norm.wav   \n",
       "10     it  Ex4_audio_files/IT/what_time_it_norm.wav   \n",
       "11     it      Ex4_audio_files/IT/where_it_norm.wav   \n",
       "12     es    Ex4_audio_files/ES/checkin_es_norm.wav   \n",
       "13     es    Ex4_audio_files/ES/parents_es_norm.wav   \n",
       "14     es   Ex4_audio_files/ES/suitcase_es_norm.wav   \n",
       "15     es  Ex4_audio_files/ES/what_time_es_norm.wav   \n",
       "16     es      Ex4_audio_files/ES/where_es_norm.wav   \n",
       "\n",
       "                                        y_true  \n",
       "0                    where is the checkin desk  \n",
       "1                       i have lost my parents  \n",
       "2               please i have lost my suitcase  \n",
       "3                        what time is my plane  \n",
       "4          where are the restaurants and shops  \n",
       "5                          i am in the library  \n",
       "6                  he is studying for the exam  \n",
       "7                            dove e il bancone  \n",
       "8                     ho perso i miei genitori  \n",
       "9           per favore ho perso la mia valigia  \n",
       "10                    a che ora e il mio aereo  \n",
       "11           dove sono i ristoranti e i negozi  \n",
       "12                 donde estan los mostradores  \n",
       "13                     he perdido a mis padres  \n",
       "14              por favor he perdido mi maleta  \n",
       "15                      a que hora es mi avion  \n",
       "16  donde estan los restaurantes y las tiendas  "
      ]
     },
     "execution_count": 5,
     "metadata": {},
     "output_type": "execute_result"
    }
   ],
   "source": [
    "test_df = pd.read_csv(transcriptions_filepath, header=0)\n",
    "test_df[\"y_true\"] = test_df.y_true.map(normalise_text)\n",
    "test_df\n"
   ]
  },
  {
   "cell_type": "markdown",
   "metadata": {},
   "source": [
    "# ASR\n"
   ]
  },
  {
   "cell_type": "code",
   "execution_count": 6,
   "metadata": {},
   "outputs": [],
   "source": [
    "from abc import ABC, abstractclassmethod\n",
    "\n",
    "\n",
    "class AbstractASR:\n",
    "    @abstractclassmethod\n",
    "    def transcribe(self, filepath: Path) -> str:\n",
    "        raise NotImplementedError(\"You must implement the transcribe() method\")\n"
   ]
  },
  {
   "cell_type": "markdown",
   "metadata": {},
   "source": [
    "## Mozilla DeepSpeech\n"
   ]
  },
  {
   "cell_type": "code",
   "execution_count": 7,
   "metadata": {},
   "outputs": [
    {
     "name": "stderr",
     "output_type": "stream",
     "text": [
      "TensorFlow: v2.3.0-6-g23ad988fcd\n",
      "DeepSpeech: v0.9.3-0-gf2e9c858\n",
      "2022-06-26 17:44:21.969274: I tensorflow/core/platform/cpu_feature_guard.cc:142] This TensorFlow binary is optimized with oneAPI Deep Neural Network Library (oneDNN)to use the following CPU instructions in performance-critical operations:  AVX2 FMA\n",
      "To enable them in other operations, rebuild TensorFlow with the appropriate compiler flags.\n",
      "TensorFlow: v2.3.0-6-g23ad988fcd\n",
      "DeepSpeech: v0.9.3-0-gf2e9c858\n",
      "TensorFlow: v2.3.0-6-g23ad988fcd\n",
      "DeepSpeech: v0.9.3-0-gf2e9c858\n"
     ]
    },
    {
     "data": {
      "text/plain": [
       "(('en', 'where is the checking desk'),\n",
       " ('it', 'dove e il vancone'),\n",
       " ('es', 'adande estan los mostradores'))"
      ]
     },
     "execution_count": 7,
     "metadata": {},
     "output_type": "execute_result"
    }
   ],
   "source": [
    "import deepspeech as ds\n",
    "import librosa as lr\n",
    "\n",
    "\n",
    "class DeepSpeechASR(AbstractASR):\n",
    "    model: ds.Model\n",
    "\n",
    "    def __init__(self, model_name: str, folder: Path, scorer_name: str = None):\n",
    "        super(DeepSpeechASR, self).__init__()\n",
    "        model_path = folder / f\"{model_name}.pbmm\"\n",
    "        self.model = ds.Model(str(model_path))\n",
    "        if not scorer_name:\n",
    "            scorer_name = model_name\n",
    "        scorer_path = folder / f\"{scorer_name}.scorer\"\n",
    "        if scorer_path.is_file():\n",
    "            self.model.enableExternalScorer(str(scorer_path))\n",
    "\n",
    "    def transcribe(self, filepath: Path):\n",
    "        audiofile = lr.load(filepath, sr=self.model.sampleRate())[0]\n",
    "        audiofile = (audiofile * 32767).astype(np.int16)\n",
    "        return self.model.stt(audiofile)\n",
    "\n",
    "\n",
    "asr_deepspeech_en = DeepSpeechASR(model_name=\"deepspeech-0.9.3-models\", folder=model_folder / \"deepspeech\")\n",
    "asr_deepspeech_it = DeepSpeechASR(model_name=\"output_graph_it\", folder=model_folder / \"deepspeech\")\n",
    "asr_deepspeech_es = DeepSpeechASR(\n",
    "    model_name=\"output_graph_es\", scorer_name=\"kenlm_es\", folder=model_folder / \"deepspeech\"\n",
    ")\n",
    "\n",
    "(\n",
    "    (\"en\", asr_deepspeech_en.transcribe(filepath=data_folder / test_df[test_df.locale == \"en\"].filename.values[0])),\n",
    "    (\"it\", asr_deepspeech_it.transcribe(filepath=data_folder / test_df[test_df.locale == \"it\"].filename.values[0])),\n",
    "    (\"es\", asr_deepspeech_es.transcribe(filepath=data_folder / test_df[test_df.locale == \"es\"].filename.values[0])),\n",
    ")\n"
   ]
  },
  {
   "cell_type": "markdown",
   "metadata": {},
   "source": [
    "## SpeechBrain\n"
   ]
  },
  {
   "cell_type": "code",
   "execution_count": 8,
   "metadata": {},
   "outputs": [
    {
     "name": "stderr",
     "output_type": "stream",
     "text": [
      "/Users/hudsonmendes/Workspaces/hudsonmendes-estudos/cm3065-isp/exercise-04/venv/lib/python3.8/site-packages/tqdm/auto.py:22: TqdmWarning: IProgress not found. Please update jupyter and ipywidgets. See https://ipywidgets.readthedocs.io/en/stable/user_install.html\n",
      "  from .autonotebook import tqdm as notebook_tqdm\n",
      "/Users/hudsonmendes/Workspaces/hudsonmendes-estudos/cm3065-isp/exercise-04/venv/lib/python3.8/site-packages/huggingface_hub/utils/_deprecation.py:39: FutureWarning: Pass library_name=False as keyword args. From version 0.8 passing these as positional arguments will result in an error\n",
      "  warnings.warn(\n",
      "Some weights of the model checkpoint at facebook/wav2vec2-large-lv60 were not used when initializing Wav2Vec2Model: ['quantizer.weight_proj.bias', 'project_hid.weight', 'project_hid.bias', 'quantizer.weight_proj.weight', 'quantizer.codevectors', 'project_q.weight', 'project_q.bias']\n",
      "- This IS expected if you are initializing Wav2Vec2Model from the checkpoint of a model trained on another task or with another architecture (e.g. initializing a BertForSequenceClassification model from a BertForPreTraining model).\n",
      "- This IS NOT expected if you are initializing Wav2Vec2Model from the checkpoint of a model that you expect to be exactly identical (initializing a BertForSequenceClassification model from a BertForSequenceClassification model).\n",
      "speechbrain.lobes.models.huggingface_wav2vec - wav2vec 2.0 is frozen.\n"
     ]
    },
    {
     "data": {
      "text/plain": [
       "'WHERE IS THE CHECK IN DESK'"
      ]
     },
     "execution_count": 8,
     "metadata": {},
     "output_type": "execute_result"
    }
   ],
   "source": [
    "from speechbrain.pretrained import EncoderDecoderASR\n",
    "\n",
    "\n",
    "class SpeechBrainASR:\n",
    "    def __init__(self, model_name: str, folder: Path):\n",
    "        super(SpeechBrainASR, self).__init__()\n",
    "        self.model = EncoderDecoderASR.from_hparams(source=f\"speechbrain/{model_name}\", savedir=folder)\n",
    "\n",
    "    def transcribe(self, filepath: Path) -> str:\n",
    "        return self.model.transcribe_file(str(filepath))\n",
    "\n",
    "\n",
    "asr_speechbrain_en = SpeechBrainASR(model_name=\"asr-wav2vec2-commonvoice-en\", folder=model_folder / \"speechbrain\")\n",
    "asr_speechbrain_en.transcribe(filepath=data_folder / test_df[test_df.locale == \"en\"].filename.values[0])\n"
   ]
  },
  {
   "cell_type": "markdown",
   "metadata": {},
   "source": [
    "## Facebook Wav2Vec\n"
   ]
  },
  {
   "cell_type": "code",
   "execution_count": 9,
   "metadata": {},
   "outputs": [
    {
     "name": "stderr",
     "output_type": "stream",
     "text": [
      "Some weights of Wav2Vec2ForCTC were not initialized from the model checkpoint at facebook/wav2vec2-base-960h and are newly initialized: ['wav2vec2.masked_spec_embed']\n",
      "You should probably TRAIN this model on a down-stream task to be able to use it for predictions and inference.\n"
     ]
    },
    {
     "data": {
      "text/plain": [
       "'WHERE IS THE CHECKEN DESK'"
      ]
     },
     "execution_count": 9,
     "metadata": {},
     "output_type": "execute_result"
    }
   ],
   "source": [
    "from transformers import Wav2Vec2Processor, Wav2Vec2ForCTC\n",
    "import torch\n",
    "import soundfile as sf\n",
    "\n",
    "\n",
    "class FacebookWave2VecASR:\n",
    "    def __init__(self):\n",
    "        super(FacebookWave2VecASR, self).__init__()\n",
    "        self.processor = Wav2Vec2Processor.from_pretrained(\"facebook/wav2vec2-base-960h\")\n",
    "        self.model = Wav2Vec2ForCTC.from_pretrained(\"facebook/wav2vec2-base-960h\")\n",
    "\n",
    "    def transcribe(self, filepath: Path) -> str:\n",
    "        with filepath.open(\"rb\") as fh:\n",
    "            data, sr = sf.read(fh)\n",
    "            inputs = self.processor(data, sampling_rate=sr, return_tensors=\"pt\")\n",
    "            with torch.no_grad():\n",
    "                y = self.model(**inputs)\n",
    "                logits = y.logits\n",
    "                ids = torch.argmax(logits, dim=-1)\n",
    "                return self.processor.batch_decode(ids)[0]\n",
    "\n",
    "\n",
    "asr_fbwav2vec_en = FacebookWave2VecASR()\n",
    "asr_fbwav2vec_en.transcribe(filepath=data_folder / test_df[test_df.locale == \"en\"].filename.values[0])\n"
   ]
  },
  {
   "cell_type": "markdown",
   "metadata": {},
   "source": [
    "# Transcription\n"
   ]
  },
  {
   "cell_type": "markdown",
   "metadata": {},
   "source": [
    "## Deep Speech\n"
   ]
  },
  {
   "cell_type": "code",
   "execution_count": 10,
   "metadata": {},
   "outputs": [],
   "source": [
    "def analyse(df: pd.DataFrame, folder: Path, asr_engine: AbstractASR) -> pd.DataFrame:\n",
    "    df = df.copy()\n",
    "    for ix, filename in df.filename.iteritems():\n",
    "        y_pred = asr_engine.transcribe(filepath=folder / filename)\n",
    "        df.at[ix, \"y_pred\"] = y_pred\n",
    "    return df\n"
   ]
  },
  {
   "cell_type": "code",
   "execution_count": 11,
   "metadata": {},
   "outputs": [
    {
     "data": {
      "text/html": [
       "<div>\n",
       "<style scoped>\n",
       "    .dataframe tbody tr th:only-of-type {\n",
       "        vertical-align: middle;\n",
       "    }\n",
       "\n",
       "    .dataframe tbody tr th {\n",
       "        vertical-align: top;\n",
       "    }\n",
       "\n",
       "    .dataframe thead th {\n",
       "        text-align: right;\n",
       "    }\n",
       "</style>\n",
       "<table border=\"1\" class=\"dataframe\">\n",
       "  <thead>\n",
       "    <tr style=\"text-align: right;\">\n",
       "      <th></th>\n",
       "      <th>locale</th>\n",
       "      <th>filename</th>\n",
       "      <th>y_true</th>\n",
       "      <th>y_pred</th>\n",
       "    </tr>\n",
       "  </thead>\n",
       "  <tbody>\n",
       "    <tr>\n",
       "      <th>0</th>\n",
       "      <td>en</td>\n",
       "      <td>Ex4_audio_files/EN/checkin_norm.wav</td>\n",
       "      <td>where is the checkin desk</td>\n",
       "      <td>where is the checking desk</td>\n",
       "    </tr>\n",
       "    <tr>\n",
       "      <th>1</th>\n",
       "      <td>en</td>\n",
       "      <td>Ex4_audio_files/EN/parents_norm.wav</td>\n",
       "      <td>i have lost my parents</td>\n",
       "      <td>i had lost my parents</td>\n",
       "    </tr>\n",
       "    <tr>\n",
       "      <th>2</th>\n",
       "      <td>en</td>\n",
       "      <td>Ex4_audio_files/EN/suitcase_norm.wav</td>\n",
       "      <td>please i have lost my suitcase</td>\n",
       "      <td>please i have lost my suitcase</td>\n",
       "    </tr>\n",
       "    <tr>\n",
       "      <th>3</th>\n",
       "      <td>en</td>\n",
       "      <td>Ex4_audio_files/EN/what_time_norm.wav</td>\n",
       "      <td>what time is my plane</td>\n",
       "      <td>what time is my plain</td>\n",
       "    </tr>\n",
       "    <tr>\n",
       "      <th>4</th>\n",
       "      <td>en</td>\n",
       "      <td>Ex4_audio_files/EN/where_norm.wav</td>\n",
       "      <td>where are the restaurants and shops</td>\n",
       "      <td>where are the restaurants and shops</td>\n",
       "    </tr>\n",
       "    <tr>\n",
       "      <th>5</th>\n",
       "      <td>en</td>\n",
       "      <td>Ex4_audio_files/EN/your_sentence1.wav</td>\n",
       "      <td>i am in the library</td>\n",
       "      <td>in the library</td>\n",
       "    </tr>\n",
       "    <tr>\n",
       "      <th>6</th>\n",
       "      <td>en</td>\n",
       "      <td>Ex4_audio_files/EN/your_sentence2.wav</td>\n",
       "      <td>he is studying for the exam</td>\n",
       "      <td>he is starting for the</td>\n",
       "    </tr>\n",
       "  </tbody>\n",
       "</table>\n",
       "</div>"
      ],
      "text/plain": [
       "  locale                               filename  \\\n",
       "0     en    Ex4_audio_files/EN/checkin_norm.wav   \n",
       "1     en    Ex4_audio_files/EN/parents_norm.wav   \n",
       "2     en   Ex4_audio_files/EN/suitcase_norm.wav   \n",
       "3     en  Ex4_audio_files/EN/what_time_norm.wav   \n",
       "4     en      Ex4_audio_files/EN/where_norm.wav   \n",
       "5     en  Ex4_audio_files/EN/your_sentence1.wav   \n",
       "6     en  Ex4_audio_files/EN/your_sentence2.wav   \n",
       "\n",
       "                                y_true                               y_pred  \n",
       "0            where is the checkin desk           where is the checking desk  \n",
       "1               i have lost my parents                i had lost my parents  \n",
       "2       please i have lost my suitcase       please i have lost my suitcase  \n",
       "3                what time is my plane                what time is my plain  \n",
       "4  where are the restaurants and shops  where are the restaurants and shops  \n",
       "5                  i am in the library                       in the library  \n",
       "6          he is studying for the exam              he is starting for the   "
      ]
     },
     "execution_count": 11,
     "metadata": {},
     "output_type": "execute_result"
    }
   ],
   "source": [
    "results_deepspeech_en_df = analyse(test_df[test_df.locale == \"en\"], data_folder, asr_deepspeech_en)\n",
    "results_deepspeech_en_df\n"
   ]
  },
  {
   "cell_type": "code",
   "execution_count": 12,
   "metadata": {},
   "outputs": [
    {
     "data": {
      "text/html": [
       "<div>\n",
       "<style scoped>\n",
       "    .dataframe tbody tr th:only-of-type {\n",
       "        vertical-align: middle;\n",
       "    }\n",
       "\n",
       "    .dataframe tbody tr th {\n",
       "        vertical-align: top;\n",
       "    }\n",
       "\n",
       "    .dataframe thead th {\n",
       "        text-align: right;\n",
       "    }\n",
       "</style>\n",
       "<table border=\"1\" class=\"dataframe\">\n",
       "  <thead>\n",
       "    <tr style=\"text-align: right;\">\n",
       "      <th></th>\n",
       "      <th>locale</th>\n",
       "      <th>filename</th>\n",
       "      <th>y_true</th>\n",
       "      <th>y_pred</th>\n",
       "    </tr>\n",
       "  </thead>\n",
       "  <tbody>\n",
       "    <tr>\n",
       "      <th>7</th>\n",
       "      <td>it</td>\n",
       "      <td>Ex4_audio_files/IT/checkin_it_norm.wav</td>\n",
       "      <td>dove e il bancone</td>\n",
       "      <td>dove e il vancone</td>\n",
       "    </tr>\n",
       "    <tr>\n",
       "      <th>8</th>\n",
       "      <td>it</td>\n",
       "      <td>Ex4_audio_files/IT/parents_it_norm.wav</td>\n",
       "      <td>ho perso i miei genitori</td>\n",
       "      <td>operso i miei genitori</td>\n",
       "    </tr>\n",
       "    <tr>\n",
       "      <th>9</th>\n",
       "      <td>it</td>\n",
       "      <td>Ex4_audio_files/IT/suitcase_it_norm.wav</td>\n",
       "      <td>per favore ho perso la mia valigia</td>\n",
       "      <td>per favore o perso la mia valigia</td>\n",
       "    </tr>\n",
       "    <tr>\n",
       "      <th>10</th>\n",
       "      <td>it</td>\n",
       "      <td>Ex4_audio_files/IT/what_time_it_norm.wav</td>\n",
       "      <td>a che ora e il mio aereo</td>\n",
       "      <td>aceora i nio ereo</td>\n",
       "    </tr>\n",
       "    <tr>\n",
       "      <th>11</th>\n",
       "      <td>it</td>\n",
       "      <td>Ex4_audio_files/IT/where_it_norm.wav</td>\n",
       "      <td>dove sono i ristoranti e i negozi</td>\n",
       "      <td>dove sone ristoranti e inedofzi</td>\n",
       "    </tr>\n",
       "  </tbody>\n",
       "</table>\n",
       "</div>"
      ],
      "text/plain": [
       "   locale                                  filename  \\\n",
       "7      it    Ex4_audio_files/IT/checkin_it_norm.wav   \n",
       "8      it    Ex4_audio_files/IT/parents_it_norm.wav   \n",
       "9      it   Ex4_audio_files/IT/suitcase_it_norm.wav   \n",
       "10     it  Ex4_audio_files/IT/what_time_it_norm.wav   \n",
       "11     it      Ex4_audio_files/IT/where_it_norm.wav   \n",
       "\n",
       "                                y_true                             y_pred  \n",
       "7                    dove e il bancone                  dove e il vancone  \n",
       "8             ho perso i miei genitori             operso i miei genitori  \n",
       "9   per favore ho perso la mia valigia  per favore o perso la mia valigia  \n",
       "10            a che ora e il mio aereo                  aceora i nio ereo  \n",
       "11   dove sono i ristoranti e i negozi    dove sone ristoranti e inedofzi  "
      ]
     },
     "execution_count": 12,
     "metadata": {},
     "output_type": "execute_result"
    }
   ],
   "source": [
    "results_deepspeech_it_df = analyse(test_df[test_df.locale == \"it\"], data_folder, asr_deepspeech_it)\n",
    "results_deepspeech_it_df\n"
   ]
  },
  {
   "cell_type": "code",
   "execution_count": 13,
   "metadata": {},
   "outputs": [
    {
     "data": {
      "text/html": [
       "<div>\n",
       "<style scoped>\n",
       "    .dataframe tbody tr th:only-of-type {\n",
       "        vertical-align: middle;\n",
       "    }\n",
       "\n",
       "    .dataframe tbody tr th {\n",
       "        vertical-align: top;\n",
       "    }\n",
       "\n",
       "    .dataframe thead th {\n",
       "        text-align: right;\n",
       "    }\n",
       "</style>\n",
       "<table border=\"1\" class=\"dataframe\">\n",
       "  <thead>\n",
       "    <tr style=\"text-align: right;\">\n",
       "      <th></th>\n",
       "      <th>locale</th>\n",
       "      <th>filename</th>\n",
       "      <th>y_true</th>\n",
       "      <th>y_pred</th>\n",
       "    </tr>\n",
       "  </thead>\n",
       "  <tbody>\n",
       "    <tr>\n",
       "      <th>12</th>\n",
       "      <td>es</td>\n",
       "      <td>Ex4_audio_files/ES/checkin_es_norm.wav</td>\n",
       "      <td>donde estan los mostradores</td>\n",
       "      <td>adande estan los mostradores</td>\n",
       "    </tr>\n",
       "    <tr>\n",
       "      <th>13</th>\n",
       "      <td>es</td>\n",
       "      <td>Ex4_audio_files/ES/parents_es_norm.wav</td>\n",
       "      <td>he perdido a mis padres</td>\n",
       "      <td>he perdido a mis padres</td>\n",
       "    </tr>\n",
       "    <tr>\n",
       "      <th>14</th>\n",
       "      <td>es</td>\n",
       "      <td>Ex4_audio_files/ES/suitcase_es_norm.wav</td>\n",
       "      <td>por favor he perdido mi maleta</td>\n",
       "      <td>por favor he perdido mi maleta</td>\n",
       "    </tr>\n",
       "    <tr>\n",
       "      <th>15</th>\n",
       "      <td>es</td>\n",
       "      <td>Ex4_audio_files/ES/what_time_es_norm.wav</td>\n",
       "      <td>a que hora es mi avion</td>\n",
       "      <td>mora es miedo</td>\n",
       "    </tr>\n",
       "    <tr>\n",
       "      <th>16</th>\n",
       "      <td>es</td>\n",
       "      <td>Ex4_audio_files/ES/where_es_norm.wav</td>\n",
       "      <td>donde estan los restaurantes y las tiendas</td>\n",
       "      <td>adande estan los restaurantes en las tiendas</td>\n",
       "    </tr>\n",
       "  </tbody>\n",
       "</table>\n",
       "</div>"
      ],
      "text/plain": [
       "   locale                                  filename  \\\n",
       "12     es    Ex4_audio_files/ES/checkin_es_norm.wav   \n",
       "13     es    Ex4_audio_files/ES/parents_es_norm.wav   \n",
       "14     es   Ex4_audio_files/ES/suitcase_es_norm.wav   \n",
       "15     es  Ex4_audio_files/ES/what_time_es_norm.wav   \n",
       "16     es      Ex4_audio_files/ES/where_es_norm.wav   \n",
       "\n",
       "                                        y_true  \\\n",
       "12                 donde estan los mostradores   \n",
       "13                     he perdido a mis padres   \n",
       "14              por favor he perdido mi maleta   \n",
       "15                      a que hora es mi avion   \n",
       "16  donde estan los restaurantes y las tiendas   \n",
       "\n",
       "                                          y_pred  \n",
       "12                  adande estan los mostradores  \n",
       "13                       he perdido a mis padres  \n",
       "14                por favor he perdido mi maleta  \n",
       "15                                 mora es miedo  \n",
       "16  adande estan los restaurantes en las tiendas  "
      ]
     },
     "execution_count": 13,
     "metadata": {},
     "output_type": "execute_result"
    }
   ],
   "source": [
    "results_deepspeech_es_df = analyse(test_df[test_df.locale == \"es\"], data_folder, asr_deepspeech_es)\n",
    "results_deepspeech_es_df\n"
   ]
  },
  {
   "cell_type": "markdown",
   "metadata": {},
   "source": [
    "## Comparative (DeepSpeech, SpeechBrain, FBWav2Vec)\n"
   ]
  },
  {
   "cell_type": "code",
   "execution_count": 14,
   "metadata": {},
   "outputs": [],
   "source": [
    "def compare(df: pd.DataFrame, asr_engines: Dict[str, AbstractASR]) -> pd.DataFrame:\n",
    "    df = df.copy()\n",
    "    for ix, filename in tqdm(df.filename.iteritems(), total=len(df.filename)):\n",
    "        for asr_name, asr_engine in asr_engines.items():\n",
    "            y_pred = asr_engine.transcribe(filepath=data_folder / filename)\n",
    "            df.at[ix, f\"y_pred_{asr_name}\"] = normalise_text(y_pred)\n",
    "    return df\n"
   ]
  },
  {
   "cell_type": "code",
   "execution_count": 15,
   "metadata": {},
   "outputs": [
    {
     "name": "stderr",
     "output_type": "stream",
     "text": [
      "100%|██████████| 7/7 [00:30<00:00,  4.38s/it]\n"
     ]
    },
    {
     "data": {
      "text/html": [
       "<div>\n",
       "<style scoped>\n",
       "    .dataframe tbody tr th:only-of-type {\n",
       "        vertical-align: middle;\n",
       "    }\n",
       "\n",
       "    .dataframe tbody tr th {\n",
       "        vertical-align: top;\n",
       "    }\n",
       "\n",
       "    .dataframe thead th {\n",
       "        text-align: right;\n",
       "    }\n",
       "</style>\n",
       "<table border=\"1\" class=\"dataframe\">\n",
       "  <thead>\n",
       "    <tr style=\"text-align: right;\">\n",
       "      <th></th>\n",
       "      <th>locale</th>\n",
       "      <th>filename</th>\n",
       "      <th>y_true</th>\n",
       "      <th>y_pred_deepspeech</th>\n",
       "      <th>y_pred_speechbrain</th>\n",
       "      <th>y_pred_fbwav2vec</th>\n",
       "    </tr>\n",
       "  </thead>\n",
       "  <tbody>\n",
       "    <tr>\n",
       "      <th>0</th>\n",
       "      <td>en</td>\n",
       "      <td>Ex4_audio_files/EN/checkin_norm.wav</td>\n",
       "      <td>where is the checkin desk</td>\n",
       "      <td>where is the checking desk</td>\n",
       "      <td>where is the check in desk</td>\n",
       "      <td>where is the checken desk</td>\n",
       "    </tr>\n",
       "    <tr>\n",
       "      <th>1</th>\n",
       "      <td>en</td>\n",
       "      <td>Ex4_audio_files/EN/parents_norm.wav</td>\n",
       "      <td>i have lost my parents</td>\n",
       "      <td>i had lost my parents</td>\n",
       "      <td>i have lost my parents</td>\n",
       "      <td>i have lost my parenis</td>\n",
       "    </tr>\n",
       "    <tr>\n",
       "      <th>2</th>\n",
       "      <td>en</td>\n",
       "      <td>Ex4_audio_files/EN/suitcase_norm.wav</td>\n",
       "      <td>please i have lost my suitcase</td>\n",
       "      <td>please i have lost my suitcase</td>\n",
       "      <td>please i have lost my suitcase</td>\n",
       "      <td>please owi have lost my siccesse</td>\n",
       "    </tr>\n",
       "    <tr>\n",
       "      <th>3</th>\n",
       "      <td>en</td>\n",
       "      <td>Ex4_audio_files/EN/what_time_norm.wav</td>\n",
       "      <td>what time is my plane</td>\n",
       "      <td>what time is my plain</td>\n",
       "      <td>what time is my plane</td>\n",
       "      <td>what time is my playing</td>\n",
       "    </tr>\n",
       "    <tr>\n",
       "      <th>4</th>\n",
       "      <td>en</td>\n",
       "      <td>Ex4_audio_files/EN/where_norm.wav</td>\n",
       "      <td>where are the restaurants and shops</td>\n",
       "      <td>where are the restaurants and shops</td>\n",
       "      <td>where are the restaurants and shops</td>\n",
       "      <td>where are the restaurats and shops</td>\n",
       "    </tr>\n",
       "    <tr>\n",
       "      <th>5</th>\n",
       "      <td>en</td>\n",
       "      <td>Ex4_audio_files/EN/your_sentence1.wav</td>\n",
       "      <td>i am in the library</td>\n",
       "      <td>in the library</td>\n",
       "      <td>i am in the library</td>\n",
       "      <td>i am in the library</td>\n",
       "    </tr>\n",
       "    <tr>\n",
       "      <th>6</th>\n",
       "      <td>en</td>\n",
       "      <td>Ex4_audio_files/EN/your_sentence2.wav</td>\n",
       "      <td>he is studying for the exam</td>\n",
       "      <td>he is starting for the</td>\n",
       "      <td>he is studying for the exam</td>\n",
       "      <td>hereis ha studying for theixam</td>\n",
       "    </tr>\n",
       "  </tbody>\n",
       "</table>\n",
       "</div>"
      ],
      "text/plain": [
       "  locale                               filename  \\\n",
       "0     en    Ex4_audio_files/EN/checkin_norm.wav   \n",
       "1     en    Ex4_audio_files/EN/parents_norm.wav   \n",
       "2     en   Ex4_audio_files/EN/suitcase_norm.wav   \n",
       "3     en  Ex4_audio_files/EN/what_time_norm.wav   \n",
       "4     en      Ex4_audio_files/EN/where_norm.wav   \n",
       "5     en  Ex4_audio_files/EN/your_sentence1.wav   \n",
       "6     en  Ex4_audio_files/EN/your_sentence2.wav   \n",
       "\n",
       "                                y_true                    y_pred_deepspeech  \\\n",
       "0            where is the checkin desk           where is the checking desk   \n",
       "1               i have lost my parents                i had lost my parents   \n",
       "2       please i have lost my suitcase       please i have lost my suitcase   \n",
       "3                what time is my plane                what time is my plain   \n",
       "4  where are the restaurants and shops  where are the restaurants and shops   \n",
       "5                  i am in the library                       in the library   \n",
       "6          he is studying for the exam               he is starting for the   \n",
       "\n",
       "                    y_pred_speechbrain                    y_pred_fbwav2vec  \n",
       "0           where is the check in desk           where is the checken desk  \n",
       "1               i have lost my parents              i have lost my parenis  \n",
       "2       please i have lost my suitcase    please owi have lost my siccesse  \n",
       "3                what time is my plane             what time is my playing  \n",
       "4  where are the restaurants and shops  where are the restaurats and shops  \n",
       "5                  i am in the library                 i am in the library  \n",
       "6          he is studying for the exam      hereis ha studying for theixam  "
      ]
     },
     "execution_count": 15,
     "metadata": {},
     "output_type": "execute_result"
    }
   ],
   "source": [
    "comparative_df = compare(\n",
    "    df=test_df[test_df.locale == \"en\"],\n",
    "    asr_engines={\n",
    "        \"deepspeech\": asr_deepspeech_en,\n",
    "        \"speechbrain\": asr_speechbrain_en,\n",
    "        \"fbwav2vec\": asr_fbwav2vec_en,\n",
    "    },\n",
    ")\n",
    "comparative_df\n"
   ]
  },
  {
   "cell_type": "markdown",
   "metadata": {},
   "source": [
    "# Evaluation (WER, or \"Word Error Rate\")\n",
    "\n",
    "Calculated using the following formula:\n",
    "\n",
    "$WER = \\frac{S + D+ I}{N} \\times 100$\n",
    "\n",
    "where:\n",
    "* $S$ is the number of substitutions\n",
    "* $D$ is the number of deletions\n",
    "* $I$ is the number of insertions\n",
    "* $N$ is the number of words in your \"y_true\"\n",
    "\n",
    "For the purpose of this project, the [jiwer library](https://pypi.org/project/jiwer/) will be used<br />\n",
    "and we are going to macro-average the **WER Score** across all data points."
   ]
  },
  {
   "cell_type": "code",
   "execution_count": 16,
   "metadata": {},
   "outputs": [],
   "source": [
    "import jiwer\n",
    "\n",
    "class Evaluator:\n",
    "    df: pd.DataFrame\n",
    "\n",
    "    def __init__(self, df: pd.DataFrame):\n",
    "        self.df = df\n",
    "\n",
    "    def evaluate(self, asr_name: str = None) -> pd.DataFrame:\n",
    "        y_pred_column = \"y_pred\"\n",
    "        if asr_name:\n",
    "            y_pred_column = f\"{y_pred_column}_{asr_name}\"\n",
    "        wers = []\n",
    "        for y_true, y_pred in zip(self.df.y_true, self.df[y_pred_column]):\n",
    "            wers.append(jiwer.wer(y_true, y_pred))\n",
    "        return 100. * sum(wers) / len(wers)\n"
   ]
  },
  {
   "cell_type": "markdown",
   "metadata": {},
   "source": [
    "## Deep Speech\n"
   ]
  },
  {
   "cell_type": "code",
   "execution_count": 17,
   "metadata": {},
   "outputs": [
    {
     "data": {
      "text/plain": [
       "19.047619047619044"
      ]
     },
     "execution_count": 17,
     "metadata": {},
     "output_type": "execute_result"
    }
   ],
   "source": [
    "Evaluator(results_deepspeech_en_df).evaluate()"
   ]
  },
  {
   "cell_type": "code",
   "execution_count": 18,
   "metadata": {},
   "outputs": [
    {
     "data": {
      "text/plain": [
       "47.28571428571429"
      ]
     },
     "execution_count": 18,
     "metadata": {},
     "output_type": "execute_result"
    }
   ],
   "source": [
    "Evaluator(results_deepspeech_it_df).evaluate()"
   ]
  },
  {
   "cell_type": "code",
   "execution_count": 19,
   "metadata": {},
   "outputs": [
    {
     "data": {
      "text/plain": [
       "27.38095238095238"
      ]
     },
     "execution_count": 19,
     "metadata": {},
     "output_type": "execute_result"
    }
   ],
   "source": [
    "Evaluator(results_deepspeech_es_df).evaluate()"
   ]
  },
  {
   "cell_type": "markdown",
   "metadata": {},
   "source": [
    "## Comparative (DeepSearch, SpeechBrain, FBWav2Vec)"
   ]
  },
  {
   "cell_type": "code",
   "execution_count": 20,
   "metadata": {},
   "outputs": [
    {
     "data": {
      "text/plain": [
       "19.047619047619044"
      ]
     },
     "execution_count": 20,
     "metadata": {},
     "output_type": "execute_result"
    }
   ],
   "source": [
    "Evaluator(comparative_df).evaluate(asr_name='deepspeech')"
   ]
  },
  {
   "cell_type": "code",
   "execution_count": 21,
   "metadata": {},
   "outputs": [
    {
     "data": {
      "text/plain": [
       "5.714285714285714"
      ]
     },
     "execution_count": 21,
     "metadata": {},
     "output_type": "execute_result"
    }
   ],
   "source": [
    "Evaluator(comparative_df).evaluate(asr_name='speechbrain')"
   ]
  },
  {
   "cell_type": "code",
   "execution_count": 22,
   "metadata": {},
   "outputs": [
    {
     "data": {
      "text/plain": [
       "25.238095238095237"
      ]
     },
     "execution_count": 22,
     "metadata": {},
     "output_type": "execute_result"
    }
   ],
   "source": [
    "Evaluator(comparative_df).evaluate(asr_name='fbwav2vec')"
   ]
  },
  {
   "cell_type": "markdown",
   "metadata": {},
   "source": [
    "# Conclusions\n",
    "\n",
    "**DeepSpeech** has been evaluated in **English**, **Italian** & **Spanish** against the dataset<br />\n",
    "of audio files provided with the course work. Additionally, for **English** we have also added<br />\n",
    "two custom audioclips `your_sentence1.wav` and `your_sentence2.wav`.\n",
    "\n",
    "**Note:** all audioclips were normalised prior to inference.\n",
    "\n",
    "The resulting **Macro-averaged** WER (Word Error Rate) for each Language is:\n",
    "\n",
    "| **locale** | **wer\\_deepspeech** | **pass** |\n",
    "|:----------:|--------------------:|:--------:|\n",
    "| **en**     | `19.04%`            | yes      |\n",
    "| **it**     | `47.28%`            | no       |\n",
    "| **es**     | `27.38%`            | yes      |\n",
    "\n",
    "\n",
    "Additionall, we have investigated alternative ASR systems for **English**, namely the<br />\n",
    "**SpeechBrain** and **Facebook Wav2Vec**, and compared their results against **DeepSpeech**.<br />\n",
    "Here are the results:\n",
    "\n",
    "| **asr**           | **wer**  | **pass** |\n",
    "|:-----------------:|---------:|:--------:|\n",
    "| **deepsearch**    | `19.04%` | yes      |\n",
    "| **speech\\-brain** | ` 5.71%` | yes      |\n",
    "| **fb\\-wav2vec**   | `25.23%` | no       |\n",
    "\n",
    "As a conclusion, **SpeechBrain** had the best performance in **English** with a `5.71%` WER Score.<br />\n",
    "We also have acceptable results for **Spanish**. However, for **Italian**, even with the audio<br />\n",
    "normalisation, the WER was above acceptable levels with `53%` WER Score.<br />\n"
   ]
  }
 ],
 "metadata": {
  "kernelspec": {
   "display_name": "Python 3.8.7 ('venv': venv)",
   "language": "python",
   "name": "python3"
  },
  "language_info": {
   "codemirror_mode": {
    "name": "ipython",
    "version": 3
   },
   "file_extension": ".py",
   "mimetype": "text/x-python",
   "name": "python",
   "nbconvert_exporter": "python",
   "pygments_lexer": "ipython3",
   "version": "3.8.7"
  },
  "orig_nbformat": 4,
  "vscode": {
   "interpreter": {
    "hash": "2eae4de737fc7bb56fc51d9b7910e57c2c74fec1d168a31b06f7eed62cd7bffe"
   }
  }
 },
 "nbformat": 4,
 "nbformat_minor": 2
}
